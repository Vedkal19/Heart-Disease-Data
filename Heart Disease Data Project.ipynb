{
 "cells": [
  {
   "cell_type": "code",
   "execution_count": null,
   "id": "4d84c996-a0b4-486c-ba44-a5fefb2e5f74",
   "metadata": {},
   "outputs": [],
   "source": [
    "install.packages(\"GGally\")"
   ]
  },
  {
   "cell_type": "code",
   "execution_count": null,
   "id": "8a4f50a0-1f7e-4fe4-8859-1bc6b533d9cd",
   "metadata": {},
   "outputs": [],
   "source": [
    "#Libraries for classifying and modeling data\n",
    "library(tidyverse)\n",
    "library(tidymodels)\n",
    "library(broom)\n",
    "library(repr)\n",
    "library(ggplot2)\n",
    "library(GGally)\n",
    "options(repr.matrix.max.rows = 6)"
   ]
  },
  {
   "cell_type": "markdown",
   "id": "fb028931-9284-45ac-886a-8fc1763d48ba",
   "metadata": {},
   "source": [
    "# **Determine heart disease patients from Cleveland based on age, blood pressure, cholestorol, maximum heart rate, and ST depression.**\n",
    "\n",
    "### Vedant Kalyani, Dylan Tan, Audrey Zeilstra, Kevin Zhu\n"
   ]
  },
  {
   "cell_type": "markdown",
   "id": "0c65cae3-ab1f-4d64-9ba3-d0cd5c6980d9",
   "metadata": {},
   "source": [
    "### Introduction\n",
    "\n",
    "Heart disease is a major health issue that affects millions of people worldwide. There are many factors that increase the risk of heart disease, including age, cholestorol, heart rate and so on.\n",
    "\n",
    "For example, low heart rate may cause frequent failing, inability of the heart to pump enough blood (heart failure), sudden cardiac arrest or sudden death. The goal of the project is to predict whether a patient is likely to have heart disease based on these risk factors.\n",
    "\n",
    "The question we will Try to answer is: **Is a patient likely to have heart disease, based on measurement and analysis of age, blood pressure, cholesterol, maximum heart rate, and ST depression?**\n",
    "\n",
    "We are using the processed.cleveland.data from the Heart Disease Database as the dataset."
   ]
  },
  {
   "cell_type": "markdown",
   "id": "5b666115-6b40-4418-9b29-783d9de8b88d",
   "metadata": {},
   "source": [
    "### Method\n",
    "\n",
    "We are using the processed.cleveland.data from the Heart Disease Database as the dataset. Our goal of the project is to predict if a patient from Cleveland will have heart disease based on predictors. We give names to each columns using `colnames`. The predictors are selected from the following columns:\n",
    "\n",
    "1. **Age**: patient’s age\n",
    "2. **Sex**: sex (1 = male, 0 = female)\n",
    "3. **Type_Chest_Pain**: chest pain type\n",
    "4. **Resting_Blood_Pressure**: resting blood pressure\n",
    "5. **Cholestorol**: serum cholestoral in mg/dl\n",
    "6. **Fasting_Blood_Sugar**: fasting blood sugar > 120 mg/dl? (1 = True, 0 = False)\n",
    "7. **Resting_ECG_Results**: resting electrocardiographic results\n",
    "8. **Max_Heart_Rate**: maximum heart rate achieved\n",
    "9. **Exercise_Angina**: whether exercise induced angina (1 = True, 0 = False)\n",
    "10. **ST_Depression_Exercise**: ST depression induced by exercise, relative to rest\n",
    "11. **Slope**: the slope of the peak exercise ST segment (1 = upslope, 2 = flat, 3 = downslope)\n",
    "12. **Major_Vessels**: number of major vessels (0-3) colored by flourosopy\n",
    "13. **Thalassemia**: (3 = normal, 6 = fixed defect, 7 = reversable defect)\n",
    "14. **Diagnosis**: diagnosis of heart disease\n",
    "\n",
    "We first clean the data. In the original dataset, it use integers in column **num** to represent diagnosis of heart disease, but we just need to determine whether or not a patient has heart disease. Therefore, we use **mutate** to create a new column **Diagnosis**, and divided it into two cases, which are “Positive” and “Negative”.\n",
    "\n",
    "Then. We used `initial_split()` to split the dataframe into 75% training and 25% testing data, stratifying for **Diagnosis**. The training set is what we will use for analysis.\n",
    "\n",
    "To summarize our data, we grouped by **Diagnosis** then summarized for the mean of five columns:  **Age, Resting_Blood_Pressure, Cholestorol, Max_Heart_Rate, and ST_Depression_Exercise**. We found that the patient with “Positive” diagnosis have a relatively higher age, resting blood pressure, and cholestorol, and lower max heart rate. It is not hard to see the difference between values, and we can analysis and try to find classification of the plot based on it.\n",
    "\n",
    "To visualize relationships for the dataframe, we generated scatter plots of two different columns of value against each other. Based on the plots we create, we can determine which are the best predictor to use. We colored the scatter plot point based on **Diagnosis**, it clearly shows the “Positive” and “Negative” diagnosis based on two variables. The plots are shown, we may not use **figure 1.3, 1.4, and 1.5**, because the dots are mix together, and it’s hard to tell the distinct distribution. **Figure 1.1 and 1.2**, have more distinct distribution, which may be what we want for the project.\n",
    "\n"
   ]
  },
  {
   "cell_type": "code",
   "execution_count": null,
   "id": "c350d87e-2d68-4b27-88f8-a26fe86995bf",
   "metadata": {},
   "outputs": [],
   "source": [
    "options(repr.matrix.max.rows = 6)\n",
    "\n",
    "#Read dataset from the repository\n",
    "cleveland_disease_data <- read_csv(\"https://archive.ics.uci.edu/ml/machine-learning-databases/heart-disease/processed.cleveland.data\")\n",
    "\n",
    "#Make column names readable\n",
    "colnames(cleveland_disease_data) <- c(\"Age\", \"Sex\", \"Type_Chest_Pain\", \"Resting_Blood_Pressure\", \"Cholestorol\", \"Fasting_Blood_Sugar\", \"Resting_ECG_Results\",\n",
    "                                         \"Max_Heart_Rate\", \"Exercise_Angina\", \"ST_Depression_Exercise\", \"Slope\", \"Major_Vessels\", \"Thalassemia\", \"Diagnosis\")\n",
    "\n",
    "cleveland_tidy_data <- cleveland_disease_data |>\n",
    "    mutate(Diagnosis = case_when(Diagnosis != 0 ~ 1,\n",
    "                                 Diagnosis == 0 ~ 0)) |>\n",
    "    mutate(Diagnosis = as.factor(Diagnosis)) |>\n",
    "mutate(Sex = case_when(Sex != 0 ~ \"male\",\n",
    "                                 Sex == 0 ~ \"female\"))\n",
    "\n",
    "cleveland_tidy_data"
   ]
  },
  {
   "cell_type": "code",
   "execution_count": null,
   "id": "42138858-d425-4d3f-b4ef-6cf0f2cb35e3",
   "metadata": {},
   "outputs": [],
   "source": [
    "set.seed(2000)\n",
    "#Splitting data into training and testing datasets\n",
    "cleveland_split <- initial_split(cleveland_tidy_data, prop = 0.75, strata = Diagnosis)\n",
    "\n",
    "cleveland_training <- training(cleveland_split)\n",
    "cleveland_testing <- testing(cleveland_split)\n",
    "\n",
    "head(cleveland_training)"
   ]
  },
  {
   "cell_type": "markdown",
   "id": "d316ff21-fe32-446c-adb4-87eaccba3fe7",
   "metadata": {},
   "source": [
    "In the above code, we split the data into a training data set to build our model on, as well as a testing set (to test it). Using `initial_split` allowed us to shuffle the data before splitting (removing bias and order) and stratify the data by Diagnosis so that an equal proportion of each is in each set.\n",
    "\n",
    "There is 75% of data in the training set and 25% of data in the testing set. This gives us enough data to train the classifier on, as well as enough to test it on later. Therefore, our classifier is going to be reliable."
   ]
  },
  {
   "cell_type": "markdown",
   "id": "330db88f-e92e-4f44-b11a-661d9f9bd753",
   "metadata": {},
   "source": [
    "### Summarizing Data\n",
    "\n",
    "Before we are able to visualise any data, we need to make sure that the classes actually have different averages in age, blood pressure, cholesterol, maximum heart rate, and ST depression. \n",
    "To do this, we will use `group_by` and `summarize` to create a table with the minimum, maximum and mean of each of our predictors"
   ]
  },
  {
   "cell_type": "code",
   "execution_count": null,
   "id": "b9ed656c-ed44-4bd5-8f76-10b4066fafa2",
   "metadata": {},
   "outputs": [],
   "source": [
    "cleveland_summary_data <- cleveland_training |>\n",
    "                        group_by(Diagnosis) |>\n",
    "                        summarize(Mean_Age = mean(Age),\n",
    "                                  Mean_RBP = mean(Resting_Blood_Pressure),\n",
    "                                  Mean_Chol = mean(Cholestorol),\n",
    "                                  Mean_MHR = mean(Max_Heart_Rate),\n",
    "                                  Mean_STDE = mean(ST_Depression_Exercise),\n",
    "                                 No._Patients = n())\n",
    "cleveland_summary_data             "
   ]
  },
  {
   "cell_type": "markdown",
   "id": "a5a5c1c1-d1ce-455c-a215-e1f5178dd66b",
   "metadata": {},
   "source": [
    "To summarize our data, we grouped by Diagnosis then summarized for the minimum, maximum and mean of Age, Resting_Blood_Pressure, Cholesterol, Max_Heart_Rate and ST_Depression_Excercise.\n",
    "\n",
    "We can see that patients with heart disease tend to be slightly older, have , higher resting blood pressure, higher cholesterol, and lower maximum heart rates. Therefore, these trends are what we expect our classifier to predict diagnoses using later. We can also see that the number of TRUE (1) and FALSE (0) diagnoses are roughly balanced in the training set, which means our classifier is unlikely to be biased"
   ]
  },
  {
   "cell_type": "markdown",
   "id": "ad108e1e-56b7-49c1-b2a3-783fac14952c",
   "metadata": {},
   "source": [
    "### Visualisations"
   ]
  },
  {
   "cell_type": "code",
   "execution_count": null,
   "id": "4b47c293-464f-45de-9a35-16382d871b56",
   "metadata": {},
   "outputs": [],
   "source": [
    "prop_plot1 <- ggplot(cleveland_training, aes(x = Max_Heart_Rate, y = Cholestorol, color = Diagnosis)) +\n",
    "                 geom_point() +\n",
    "                 labs(x = \"Max Heart Rate Reached\", y = \"Cholesterol (mg/dl)\", color = \"Diagnosis\") +\n",
    "                 ggtitle(\"Fig 1.1 Max Heart Rate vs Cholesterol\") +\n",
    "                 theme(text = element_text(size = 20), legend.position = \"bottom\")\n",
    "                \n",
    "\n",
    "prop_plot2 <- ggplot(cleveland_training, aes(x = Age, y = Cholestorol, color = Diagnosis)) +\n",
    "                 geom_point() +\n",
    "                 labs(x = \"Age (years)\", y = \"Cholesterol (mg/dl)\", color = \"Diagnosis\") +\n",
    "                 ggtitle(\"Fig 1.2 Age vs Cholesterol\") +\n",
    "                 theme(text = element_text(size = 20), legend.position = \"bottom\")     \n",
    "\n",
    "prop_plot3 <- ggplot(cleveland_training, aes(x = Age, y = Resting_Blood_Pressure, color = Diagnosis)) +\n",
    "                 geom_point() +\n",
    "                 labs(x = \"Age (years)\", y = \"Resting Blood Pressure\", color = \"Diagnosis\") +\n",
    "                 ggtitle(\"Fig 1.3 Age vs Resting Blood Pressure\") +\n",
    "                 theme(text = element_text(size = 20), legend.position = \"bottom\")\n",
    "\n",
    "prop_plot4 <- ggplot(cleveland_training, aes(x = ST_Depression_Exercise, y = Resting_Blood_Pressure, color = Diagnosis)) +\n",
    "                 geom_point() +\n",
    "                 labs(x = \"ST Depression Excercise\", y = \"Resting Blood Pressure\", color = \"Diagnosis\") +\n",
    "                 ggtitle(\"Fig 1.4 ST Depression Excercise vs Resting Blood Pressure\") +\n",
    "                 theme(text = element_text(size = 20), legend.position = \"bottom\")\n",
    "\n",
    "prop_plot5 <- ggplot(cleveland_training, aes(x = Age, y = ST_Depression_Exercise, color = Diagnosis)) +\n",
    "                 geom_point() +\n",
    "                 labs(x = \"Age (years)\", y = \"ST Depression Excercise\", color = \"Diagnosis\") +\n",
    "                 ggtitle(\"Fig 1.5 Age vs ST Depression Excercise\") +\n",
    "                 theme(text = element_text(size = 20), legend.position = \"bottom\")\n",
    "                 \n",
    "prop_plot1\n",
    "prop_plot2\n",
    "prop_plot3\n",
    "prop_plot4\n",
    "prop_plot5"
   ]
  },
  {
   "cell_type": "code",
   "execution_count": null,
   "id": "1f0a5f1d-423f-4b95-8aac-1e5714ec1e4c",
   "metadata": {},
   "outputs": [],
   "source": [
    "options(repr.plot.width = 30, repr.plot.height = 10)\n",
    "\n",
    "age_diagnosis_plot <- cleveland_tidy_data |>\n",
    "    ggplot(aes(x = Age, fill = Diagnosis))+\n",
    "    geom_histogram(binwidth = 1)+\n",
    "    facet_grid(cols = vars(Diagnosis))+\n",
    "    ggtitle(\"The Relationship between Patient's Ages and Diagnosis of Heart Disease\")+\n",
    "    labs(x = \"Patient's age\", y = \"Number of Patients\", fill = \"Diagnosis\")+\n",
    "    theme(text = element_text(size = 20))\n",
    "age_diagnosis_plot"
   ]
  },
  {
   "cell_type": "markdown",
   "id": "3fbe8b99-7440-4e1f-8ff9-73ce6cfadc04",
   "metadata": {},
   "source": [
    "Above are two histograms divided by the absence (Heart disease Diagnosis = 0) and presence (Heart Disease Diagnosis = 1) that illustrate different distribution shapes. This suggests that age does in fact have a positive relationship with heart disease. The plot with the absence of heart disease is normally distributed whereas the plot with the presence of heart disease contains an obvious peak. This suggests that generally speaking, older people are more likely to have heart disease."
   ]
  },
  {
   "cell_type": "code",
   "execution_count": null,
   "id": "319d961e-4d13-414f-ac8a-fc5c4903dbfb",
   "metadata": {},
   "outputs": [],
   "source": [
    "options(repr.plot.width = 12, repr.plot.height = 7)\n",
    "\n",
    "sex_diagnosis_plot <- cleveland_tidy_data |>\n",
    "    ggplot(aes(x = Sex, fill = Diagnosis)) +\n",
    "    geom_bar(position = \"dodge\")+\n",
    "    labs(x = \"Gender\", y = \"Count\", fill = \"Diagnosis\")+\n",
    "    ggtitle(\"The Relationship between Gender and Diagnosis\")+\n",
    "    theme(text = element_text(size = 20))\n",
    "sex_diagnosis_plot\n",
    "\n",
    "tcp_diagnosis_plot <- cleveland_tidy_data |>\n",
    "    ggplot(aes(x = Type_Chest_Pain, fill = Diagnosis)) +\n",
    "    geom_bar(position = \"dodge\")+\n",
    "    labs(x = \"Chest Pain Type\", y = \"Count\", fill = \"Diagnosis\")+\n",
    "    ggtitle(\"The Relationship between Chest Pain Type and Diagnosis\")+\n",
    "    theme(text = element_text(size = 20))\n",
    "tcp_diagnosis_plot"
   ]
  },
  {
   "cell_type": "code",
   "execution_count": null,
   "id": "f11a49c3-1b6d-4fe1-901e-8a0a185e9ed0",
   "metadata": {},
   "outputs": [],
   "source": [
    "options(repr.plot.width = 12, repr.plot.height = 7)\n",
    "ecg_diagnosis_plot <- cleveland_tidy_data |>\n",
    "    ggplot(aes(x = Resting_ECG_Results, fill = Diagnosis)) +\n",
    "    geom_bar(position = \"fill\")+\n",
    "    labs(x = \"Resting electrocardiographic results\", y = \"Proportion\",  fill = \"Diagnosis\")+\n",
    "    ggtitle(\"The Relationship between Resting electrocardiographic results and Diagnosis\")+\n",
    "    theme(text = element_text(size = 15))\n",
    "\n",
    "mv_diagnosis_plot <- cleveland_tidy_data |>\n",
    "filter(Major_Vessels != \"?\") |>\n",
    "    ggplot(aes(x = Major_Vessels, fill = Diagnosis)) +\n",
    "    geom_bar(position = \"fill\")+\n",
    "    labs(x = \"Major vessels\", y = \"Proportion\",  fill = \"Diagnosis\")+\n",
    "    ggtitle(\"The Relationship between major vessels and Diagnosis\")+\n",
    "    theme(text = element_text(size = 15))\n",
    "\n",
    "tha_diagnosis_plot <- cleveland_tidy_data |>\n",
    "filter(Thalassemia != \"?\") |>\n",
    "    ggplot(aes(x = Thalassemia, fill = Diagnosis)) +\n",
    "    geom_bar(position = \"fill\")+\n",
    "    labs(x = \"Thalassemia\", y = \"Proportion\",  fill = \"Diagnosis\")+\n",
    "    ggtitle(\"The Relationship between Thalassemia and Diagnosis\")+\n",
    "    theme(text = element_text(size = 15))\n",
    "\n",
    "slope_diagnosis_plot <- cleveland_tidy_data |>\n",
    "\n",
    "    ggplot(aes(x = Slope, fill = Diagnosis)) +\n",
    "    geom_bar(position = \"fill\")+\n",
    "    labs(x = \"Exercise ST segment\", y = \"Proportion\",  fill = \"Diagnosis\")+\n",
    "    ggtitle(\"The Relationship between the slope of the peak exercise ST segment and Diagnosis of heart Disease\")+\n",
    "    theme(text = element_text(size = 15))\n",
    "\n",
    "ecg_diagnosis_plot\n",
    "mv_diagnosis_plot\n",
    "tha_diagnosis_plot\n",
    "slope_diagnosis_plot"
   ]
  },
  {
   "cell_type": "markdown",
   "id": "d183b60b-a7f8-4c75-b15b-62ef1ac6c540",
   "metadata": {},
   "source": [
    "All four of the plots above are made based on the target variable. They illustrate a clear distinction in their correlation. "
   ]
  },
  {
   "cell_type": "code",
   "execution_count": null,
   "id": "3f715cde-9df6-4cdb-8fe2-eed3aafcea2e",
   "metadata": {},
   "outputs": [],
   "source": [
    "mhr_diagnosis_plot <- cleveland_tidy_data |>\n",
    "    ggplot(aes(x = Max_Heart_Rate, y = Diagnosis, color = Diagnosis)) +\n",
    "    geom_boxplot() +\n",
    "    labs(x = \"Maximum heart rate\", y = \"Diagnosis\", color = \"Diagnosis\") +\n",
    "    ggtitle(\"The Relationship between max heart rate and Diagnosis\")+\n",
    "    theme(text = element_text(size = 15))\n",
    "mhr_diagnosis_plot\n",
    "\n",
    "cholestorol_diagnosis_plot <- cleveland_tidy_data |>\n",
    "    ggplot(aes(x = Cholestorol, y = Diagnosis, color = Diagnosis)) +\n",
    "    geom_boxplot() +\n",
    "    labs(x = \"Cholestorol\", y = \"Diagnosis\", color = \"Diagnosis\") +\n",
    "    ggtitle(\"The Relationship between Serum Cholesterol Level and Diagnosis\")+\n",
    "    theme(text = element_text(size = 15))\n",
    "cholestorol_diagnosis_plot\n",
    "\n",
    "de_diagnosis_plot <- cleveland_tidy_data|>\n",
    "    ggplot(aes(x = ST_Depression_Exercise, y = Diagnosis, color = Diagnosis)) +\n",
    "    geom_boxplot() +\n",
    "    labs(x = \"Exercise include ST segment depression\", y = \"Diagnosis\", color = \"Diagnosis\") +\n",
    "    ggtitle(\"The Relationship between ST Segment Depression and Diagnosis\")+\n",
    "    theme(text = element_text(size = 15))\n",
    "de_diagnosis_plot"
   ]
  },
  {
   "cell_type": "markdown",
   "id": "993786a8-71b3-490d-938e-95040fdd140e",
   "metadata": {},
   "source": [
    "Above plots are boxplots for comparing the distribution of data for the absence (0) or presence (1) of heart disease. We can see that  two of the above plots show distinct differences in how the data is distributed. This occurs for the variable Maximum heart rate as well as exercise include ST segment depression. The plot showing the relationship between cholestrol levels with heart diagnosis shows a distinct, minute difference in how the data is centered. "
   ]
  },
  {
   "cell_type": "code",
   "execution_count": null,
   "id": "e4c7357a-4312-4bad-a3b7-5fd60b104cb3",
   "metadata": {},
   "outputs": [],
   "source": [
    "options(repr.plot.height = 30, repr.plot.width = 50)\n",
    "cleveland_pairs <- cleveland_tidy_data |>\n",
    "    ggpairs()\n",
    "cleveland_pairs"
   ]
  },
  {
   "cell_type": "code",
   "execution_count": null,
   "id": "f5afdcf6-473b-48c6-93bb-0378f9f9e715",
   "metadata": {},
   "outputs": [],
   "source": [
    "set.seed(2000)\n",
    "\n",
    "cleveland_recipe <- recipe(Diagnosis ~ Cholestorol + Max_Heart_Rate, data = cleveland_training) |>\n",
    "   step_scale(all_predictors()) |>\n",
    "   step_center(all_predictors())\n",
    "\n",
    "knn_spec <- nearest_neighbor(weight_func = \"rectangular\", neighbors = tune()) |>\n",
    "            set_engine(\"kknn\") |>\n",
    "            set_mode(\"classification\")\n",
    "\n",
    "cleveland_vfold <- vfold_cv(cleveland_training, v = 10, strata = Diagnosis)\n",
    "\n",
    "k_vals <- tibble(neighbors = seq(1, 100, 5))\n",
    "\n",
    "knn_results <- workflow() |>\n",
    "       add_recipe(cleveland_recipe) |>\n",
    "       add_model(knn_spec) |>\n",
    "       tune_grid(resamples = cleveland_vfold, grid = k_vals) |>\n",
    "       collect_metrics()\n",
    "\n",
    "accuracies <- knn_results |>\n",
    "    filter(.metric == \"accuracy\") |>\n",
    "    select(neighbors, mean) |>\n",
    "      arrange(desc(mean))\n",
    "\n",
    "\n",
    "accuracies"
   ]
  },
  {
   "cell_type": "code",
   "execution_count": null,
   "id": "d2782d28-8450-45ac-b08f-a3221975ddb7",
   "metadata": {},
   "outputs": [],
   "source": [
    "accuracy_k_graph <- ggplot(accuracies, aes(x = neighbors, y = mean)) +\n",
    "      geom_line() +\n",
    "      labs(x = \"Neighbors\", y = \"Accuracy\", title = \"Accuracies for k between 0 and 100\") +\n",
    "      scale_x_continuous(breaks = seq(0, 100, by = 5)) +\n",
    "      theme(text = element_text(size = 15))\n",
    "\n",
    "accuracy_k_graph"
   ]
  },
  {
   "cell_type": "code",
   "execution_count": null,
   "id": "8af232b0-c9d6-418f-9468-fc62eb68c641",
   "metadata": {},
   "outputs": [],
   "source": [
    "set.seed(2001)\n",
    "\n",
    "knn_spec_2 <- nearest_neighbor(weight_func = \"rectangular\", neighbors = 66) |>\n",
    "       set_engine(\"kknn\") |>\n",
    "       set_mode(\"classification\")\n",
    "\n",
    "cleveland_fit <- workflow() |>\n",
    "       add_recipe(cleveland_recipe) |>\n",
    "       add_model(knn_spec_2) |>\n",
    "       fit(data = cleveland_training)\n",
    "\n",
    "cleveland_predictions <- predict(cleveland_fit, cleveland_testing) |>\n",
    "    bind_cols(cleveland_testing)\n",
    "cleveland_predictions\n",
    "\n",
    "cleveland_metrics <- cleveland_predictions |>\n",
    "    metrics(truth = Diagnosis, estimate = .pred_class)\n",
    "cleveland_metrics"
   ]
  },
  {
   "cell_type": "code",
   "execution_count": null,
   "id": "3c9be2b6-4ba7-4a55-aefe-e95e1c83b42e",
   "metadata": {},
   "outputs": [],
   "source": [
    "onf_mat<- cleveland_predictions |>\n",
    "    conf_mat(truth = Diagnosis, estimate = .pred_class)\n",
    "conf_mat"
   ]
  },
  {
   "cell_type": "markdown",
   "id": "f084b019-f66f-42fe-85ca-1b2e39b7bc44",
   "metadata": {},
   "source": [
    "### Expected outcomes and significance:\n",
    "\n",
    "We are expect to find whether or not a patient will be more likely to have a positive diagnosis of heart disease based on lower max heart rate and higher age.\n",
    "\n",
    "Our findings could have potential implications for the early detection and prevention of heart disease. This analysis could lead to further questions about the most important predictors of heart disease and the effectiveness of different interventions for preventing heart disease.\n",
    "\n",
    "Some further questions we have:\n",
    "\n",
    "1. Is there any potential relationship between each predictor?\n",
    "\n",
    "2. To prevent heart disease, is there any other predictor we can measure and analyze?"
   ]
  },
  {
   "cell_type": "markdown",
   "id": "4cb0d2ea-f1f6-4c23-afed-59d432d35672",
   "metadata": {},
   "source": [
    "### References:\n",
    "\n",
    "For our project, in addition to our chosen dataset, we used two sources to do some background research. These sources can be found below:\n",
    "\n",
    "“Know Your Risk for Heart Disease.” Centers for Disease Control and Prevention, Centers for Disease Control and Prevention, 21 Mar. 2023, www.cdc.gov/heartdisease/risk_factors.htm#:~:text=Eating%20a%20diet%20high%20in,can%20lead%20to%20heart%20disease. \n",
    "\n",
    "“Processed.cleveland.data.” archive.ics.uci.edu/ml/machine-learning-databases/heart-disease/processed.cleveland.data. \n",
    "\n",
    "Rawat, Shubhankar. “Heart Disease Prediction.” Medium, Towards Data Science, 28 June 2021, towardsdatascience.com/heart-disease-prediction-73468d630cfc. "
   ]
  },
  {
   "cell_type": "code",
   "execution_count": null,
   "id": "2d37f52c-62df-47b5-a56a-b6c7af97f81d",
   "metadata": {},
   "outputs": [],
   "source": []
  }
 ],
 "metadata": {
  "kernelspec": {
   "display_name": "R",
   "language": "R",
   "name": "ir"
  },
  "language_info": {
   "codemirror_mode": "r",
   "file_extension": ".r",
   "mimetype": "text/x-r-source",
   "name": "R",
   "pygments_lexer": "r",
   "version": "4.1.1"
  }
 },
 "nbformat": 4,
 "nbformat_minor": 5
}
