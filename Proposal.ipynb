{
 "cells": [
  {
   "cell_type": "code",
   "execution_count": null,
   "id": "b9da0c08-a9dc-43e0-bd4a-edeaa1f96551",
   "metadata": {},
   "outputs": [],
   "source": [
    "Title: Predicting Heart Disease Using Classification Techniques\n",
    "\n",
    "Introduction:\n",
    "Heart disease (Cardiovascular disease) is a leading cause of death worldwide, and early detection and diagnosis are crucial for improving patient outcomes. \n",
    "In this project, we aim to analyse the factors that contribute to heart disease and build a classification model that can predict the likelihood of heart disease in patients.\n",
    "\n",
    "Question:\n",
    "What are the key predictors of heart disease, and how accurately can we predict the presence or absence of heart disease using classification techniques?\n",
    "\n",
    "Dataset:\n",
    "We will be using the Heart Disease dataset from the UCI Machine Learning Repository. This dataset contains many attributes such as age, sex, cholesterol levels, \n",
    "and ECG readings, among others. The dataset consists of 303 instances, with 165 instances labelled as positive for heart disease and 138 instances labelled as negative.\n",
    "\n",
    "Preliminary exploratory data analysis:\n",
    "We will read the Heart Disease dataset url from the web into R using the tidyverse R package. \n",
    "We will then clean and wrangle the data into a tidy format by removing any missing values and outliers. \n",
    "Using only training data, we will summarise the data in a table that reports the number of observations in each class,\n",
    "the means of the predictor variables we plan to use in our analysis, and how many rows have missing data. \n",
    "We will also visualise the data with *at least one plot relevant to our analysis, such as a histogram of age or a box plot comparing cholesterol levels \n",
    "between positive and negative cases.*\n",
    "\n",
    "Methods:\n",
    "Using the average of the numeric attributes, we are able to distinguish non-factors in determining if a patient has heart disease or not. \n",
    "Therefore we need to use *attributes that we will use*. \n",
    "We will then use k classification to create scatter plots to show which attributes determine a person’s chances of developing heart disease. \n",
    "We plan to build, prep and create a model that can show this.\n",
    "\n",
    "Expected outcomes and significance (Need to change this based on the code):\n",
    "We expect to identify key predictors of heart disease, such as age, sex, and cholesterol levels, \n",
    "and build accurate models for predicting the presence or absence of heart disease. \n",
    "These findings could have significant implications for improving patient outcomes and reducing healthcare costs. \n",
    "Additionally, this project could lead to future research questions about the effectiveness of different classification techniques for \n",
    "predicting heart disease or the impact of other demographic or clinical factors on heart disease outcomes.\n",
    "\n",
    "\n",
    "\n"
   ]
  }
 ],
 "metadata": {
  "kernelspec": {
   "display_name": "R",
   "language": "R",
   "name": "ir"
  },
  "language_info": {
   "codemirror_mode": "r",
   "file_extension": ".r",
   "mimetype": "text/x-r-source",
   "name": "R",
   "pygments_lexer": "r",
   "version": "4.1.3"
  }
 },
 "nbformat": 4,
 "nbformat_minor": 5
}
